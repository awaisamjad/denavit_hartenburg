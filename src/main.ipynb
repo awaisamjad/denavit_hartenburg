{
 "cells": [
  {
   "cell_type": "code",
   "execution_count": 2,
   "metadata": {},
   "outputs": [
    {
     "data": {
      "text/latex": [
       "$\\displaystyle \\left[\\begin{matrix}\\cos{\\left(430 \\right)} & - \\sin{\\left(430 \\right)} & 2 \\cos{\\left(100 \\right)}\\\\\\sin{\\left(430 \\right)} & \\cos{\\left(430 \\right)} & 2 \\sin{\\left(100 \\right)}\\\\0 & 0 & 1\\end{matrix}\\right]$"
      ],
      "text/plain": [
       "Matrix([\n",
       "[cos(430), -sin(430), 2*cos(100)],\n",
       "[sin(430),  cos(430), 2*sin(100)],\n",
       "[       0,         0,          1]])"
      ]
     },
     "execution_count": 2,
     "metadata": {},
     "output_type": "execute_result"
    }
   ],
   "source": [
    "simplify(Matrix([\n",
    "    [cos(100) , -sin(100), 0],\n",
    "    [sin(100), cos(100), 0],\n",
    "    [0,0,1]])*Matrix(\n",
    "    [[cos(330), -sin(330), 2],\n",
    "    [sin(330), cos(330), 0],\n",
    "    [0,0,1]]))"
   ]
  },
  {
   "cell_type": "code",
   "execution_count": 3,
   "metadata": {},
   "outputs": [],
   "source": [
    "def forward_kin_DHTable( degrees=False, DHtable=None):\n",
    "        if DHtable is not None:\n",
    "            number_of_frames = DHtable.rows\n",
    "        else:\n",
    "            number_of_frames = int(input(\"Enter number of frames: \"))\n",
    "\n",
    "        lists = [[] for _ in range(number_of_frames)]\n",
    "        matrix_variables = {}\n",
    "\n",
    "        if DHtable:\n",
    "            for i in range(number_of_frames):\n",
    "                theta = DHtable[i, 0]\n",
    "                alpha = DHtable[i, 1]\n",
    "                a = DHtable[i, 2]\n",
    "                d = DHtable[i, 3]\n",
    "\n",
    "                if degrees:\n",
    "                    theta_val = (float(theta) * pi / 180) if str(theta).replace('.', '', 1).isdigit() else (theta)\n",
    "                    alpha_val = (float(alpha) * pi / 180) if str(alpha).replace('.', '', 1).isdigit() else (alpha)\n",
    "                else:\n",
    "                    theta_val = float(theta) if str(theta).replace('.', '', 1).isdigit() else (theta)\n",
    "                    alpha_val = float(alpha) if str(alpha).replace('.', '', 1).isdigit() else (alpha)\n",
    "\n",
    "                a_val = float(a) if str(a).replace('.', '', 1).isdigit() else (a)\n",
    "                d_val = float(d) if str(d).replace('.', '', 1).isdigit() else (d)\n",
    "\n",
    "                lists[i].append(theta_val)\n",
    "                lists[i].append(alpha_val)\n",
    "                lists[i].append(a_val)\n",
    "                lists[i].append(d_val)\n",
    "        else: \n",
    "            for i in range(number_of_frames):\n",
    "                theta = input(f\"Enter theta_{i+1}: \")\n",
    "                alpha = input(f\"Enter alpha_{i+1}: \")\n",
    "                a = input(f\"Enter a_{i+1}: \")\n",
    "                d = input(f\"Enter d_{i+1}: \")\n",
    "\n",
    "                if degrees:\n",
    "                    theta_val = (float(theta) * pi / 180) if theta.strip().replace('.', '', 1).isdigit() else symbols(theta)\n",
    "                    alpha_val = (float(alpha) * pi / 180) if alpha.strip().replace('.', '', 1).isdigit() else symbols(alpha)\n",
    "                else:\n",
    "                    theta_val = float(theta) if theta.strip().replace('.', '', 1).isdigit() else symbols(theta)\n",
    "                    alpha_val = float(alpha) if alpha.strip().replace('.', '', 1).isdigit() else symbols(alpha)\n",
    "\n",
    "                a_val = float(a) if a.strip().replace('.', '', 1).isdigit() else symbols(a)\n",
    "                d_val = float(d) if d.strip().replace('.', '', 1).isdigit() else symbols(d)\n",
    "\n",
    "                lists[i].append(theta_val)\n",
    "                lists[i].append(alpha_val)\n",
    "                lists[i].append(a_val)\n",
    "                lists[i].append(d_val)\n",
    "\n",
    "        # Create transformation matrices\n",
    "        matrices = []\n",
    "        for i in lists:\n",
    "            theta_val = i[0]\n",
    "            alpha_val = i[1]\n",
    "            a_val = i[2]\n",
    "            d_val = i[3]\n",
    "\n",
    "            matrix = Matrix([\n",
    "                [cos(theta_val), -sin(theta_val), 0,  a_val],\n",
    "                [sin(theta_val)*cos(alpha_val), cos(theta_val)*cos(alpha_val), -sin(alpha_val), -sin(alpha_val)*d_val],\n",
    "                [sin(theta_val)*sin(alpha_val), cos(theta_val)*sin(alpha_val), cos(alpha_val), cos(alpha_val)*d_val],\n",
    "                [0,0,0,1],\n",
    "            ])\n",
    "            matrices.append(matrix)\n",
    "\n",
    "        for i in range(number_of_frames):\n",
    "            matrix_variables[f\"T_{i}_{i+1}\"] = matrices[i]\n",
    "\n",
    "        print(\"Matrix Variables:\")\n",
    "        for key, matrix in matrix_variables.items():\n",
    "            print(f\"{key}:\")\n",
    "            print(matrix)  \n",
    "            print() # adds spacing\n",
    "\n",
    "        # Print the product matrix\n",
    "        for matrix in matrices[1:]:\n",
    "            matrices[0] = matrices[0] * matrix\n",
    "        print(\"Resulting Product Matrix:\")\n",
    "        return matrices[0]"
   ]
  },
  {
   "cell_type": "code",
   "execution_count": 4,
   "metadata": {},
   "outputs": [],
   "source": [
    "from sympy import Matrix, cos, sin, simplify, pi, symbols"
   ]
  },
  {
   "cell_type": "code",
   "execution_count": 13,
   "metadata": {},
   "outputs": [],
   "source": [
    "theta1, theta2, theta3, theta4, theta5, theta6,a1, a2, a3, d1, d2, d3, d4 = symbols('theta_1, theta_2, theta_3, theta_4, theta_5, theta_6,a1, a2, d1, d2 a3, d3, d4', real=True)\n",
    "theta1, theta2, L1, L2 = symbols('theta1, theta2, L1, L2', real=True)"
   ]
  },
  {
   "cell_type": "code",
   "execution_count": 14,
   "metadata": {},
   "outputs": [],
   "source": [
    "dhtable = Matrix([\n",
    "    [theta1, 0, a1, 0],\n",
    "    [theta2, 180, a2, 0],\n",
    "    [0, 0, 0, d3],\n",
    "    [theta4, 0, 0, d4],\n",
    "])"
   ]
  },
  {
   "cell_type": "code",
   "execution_count": 15,
   "metadata": {},
   "outputs": [
    {
     "name": "stdout",
     "output_type": "stream",
     "text": [
      "Matrix Variables:\n",
      "T_0_1:\n",
      "Matrix([[cos(theta1), -sin(theta1), 0, a1], [sin(theta1), cos(theta1), 0, 0], [0, 0, 1, 0], [0, 0, 0, 1]])\n",
      "\n",
      "T_1_2:\n",
      "Matrix([[cos(theta2), -sin(theta2), 0, a2], [-sin(theta2), -cos(theta2), 0, 0], [0, 0, -1, 0], [0, 0, 0, 1]])\n",
      "\n",
      "T_2_3:\n",
      "Matrix([[1, 0, 0, 0], [0, 1, 0, 0], [0, 0, 1, d3], [0, 0, 0, 1]])\n",
      "\n",
      "T_3_4:\n",
      "Matrix([[cos(theta_4), -sin(theta_4), 0, 0], [sin(theta_4), cos(theta_4), 0, 0], [0, 0, 1, d4], [0, 0, 0, 1]])\n",
      "\n",
      "Resulting Product Matrix:\n"
     ]
    }
   ],
   "source": [
    "x = forward_kin_DHTable(degrees=True, DHtable = dhtable)"
   ]
  },
  {
   "cell_type": "code",
   "execution_count": 16,
   "metadata": {},
   "outputs": [
    {
     "data": {
      "text/latex": [
       "$\\displaystyle \\left[\\begin{matrix}\\cos{\\left(- \\theta_{1} + \\theta_{2} + \\theta_{4} \\right)} & - \\sin{\\left(- \\theta_{1} + \\theta_{2} + \\theta_{4} \\right)} & 0 & a_{1} + a_{2} \\cos{\\left(\\theta_{1} \\right)}\\\\- \\sin{\\left(- \\theta_{1} + \\theta_{2} + \\theta_{4} \\right)} & - \\cos{\\left(- \\theta_{1} + \\theta_{2} + \\theta_{4} \\right)} & 0 & a_{2} \\sin{\\left(\\theta_{1} \\right)}\\\\0 & 0 & -1 & - d_{3} - d_{4}\\\\0 & 0 & 0 & 1\\end{matrix}\\right]$"
      ],
      "text/plain": [
       "Matrix([\n",
       "[ cos(-theta1 + theta2 + theta_4), -sin(-theta1 + theta2 + theta_4),  0, a1 + a2*cos(theta1)],\n",
       "[-sin(-theta1 + theta2 + theta_4), -cos(-theta1 + theta2 + theta_4),  0,      a2*sin(theta1)],\n",
       "[                               0,                                0, -1,            -d3 - d4],\n",
       "[                               0,                                0,  0,                   1]])"
      ]
     },
     "execution_count": 16,
     "metadata": {},
     "output_type": "execute_result"
    }
   ],
   "source": [
    "simplify(x)"
   ]
  },
  {
   "cell_type": "code",
   "execution_count": 8,
   "metadata": {},
   "outputs": [],
   "source": [
    "x = Matrix([\n",
    "    [cos(48), -sin(48),  4],\n",
    "    [sin(48), -cos(48),  2],\n",
    "    [0,0,1]\n",
    "    ]) * Matrix([\n",
    "    [cos(112), -sin(112),  3],\n",
    "    [sin(112), -cos(112),  0],\n",
    "    [0,0,1]\n",
    "    ]) * Matrix([\n",
    "    [cos(40), -sin(40),  3.6],\n",
    "    [sin(40), -cos(40),  0],\n",
    "    [0,0,1]\n",
    "    ])* Matrix([\n",
    "    [cos(-30), -sin(-30),  4],\n",
    "    [sin(-30), -cos(-30),  2],\n",
    "    [0,0,1]\n",
    "    ])\n",
    "    "
   ]
  },
  {
   "cell_type": "code",
   "execution_count": 9,
   "metadata": {},
   "outputs": [
    {
     "data": {
      "text/latex": [
       "$\\displaystyle \\left[\\begin{matrix}- \\sin{\\left(64 \\right)} \\sin{\\left(70 \\right)} + \\cos{\\left(10 \\right)} \\cos{\\left(160 \\right)} & \\sin{\\left(70 \\right)} \\cos{\\left(160 \\right)} - \\sin{\\left(64 \\right)} \\cos{\\left(10 \\right)} & 3.6 \\cos{\\left(160 \\right)} - 4.0 \\sin{\\left(40 \\right)} \\sin{\\left(64 \\right)} + 3.0 \\cos{\\left(48 \\right)} + 2.0 \\sin{\\left(64 \\right)} \\cos{\\left(40 \\right)} - 2.0 \\sin{\\left(40 \\right)} \\cos{\\left(160 \\right)} + 4.0 \\cos{\\left(40 \\right)} \\cos{\\left(160 \\right)} + 4.0\\\\\\sin{\\left(70 \\right)} \\cos{\\left(160 \\right)} - \\sin{\\left(64 \\right)} \\cos{\\left(10 \\right)} & - \\sin{\\left(64 \\right)} \\sin{\\left(70 \\right)} + \\cos{\\left(10 \\right)} \\cos{\\left(160 \\right)} & - 3.6 \\sin{\\left(64 \\right)} + 4.0 \\sin{\\left(40 \\right)} \\cos{\\left(160 \\right)} + 3.0 \\sin{\\left(48 \\right)} - 2.0 \\cos{\\left(40 \\right)} \\cos{\\left(160 \\right)} + 2.0 \\sin{\\left(40 \\right)} \\sin{\\left(64 \\right)} + 2.0 - 4.0 \\sin{\\left(64 \\right)} \\cos{\\left(40 \\right)}\\\\0 & 0 & 1\\end{matrix}\\right]$"
      ],
      "text/plain": [
       "Matrix([\n",
       "[-sin(64)*sin(70) + cos(10)*cos(160),  sin(70)*cos(160) - sin(64)*cos(10), 3.6*cos(160) - 4.0*sin(40)*sin(64) + 3.0*cos(48) + 2.0*sin(64)*cos(40) - 2.0*sin(40)*cos(160) + 4.0*cos(40)*cos(160) + 4.0],\n",
       "[ sin(70)*cos(160) - sin(64)*cos(10), -sin(64)*sin(70) + cos(10)*cos(160), -3.6*sin(64) + 4.0*sin(40)*cos(160) + 3.0*sin(48) - 2.0*cos(40)*cos(160) + 2.0*sin(40)*sin(64) + 2.0 - 4.0*sin(64)*cos(40)],\n",
       "[                                  0,                                   0,                                                                                                                          1]])"
      ]
     },
     "execution_count": 9,
     "metadata": {},
     "output_type": "execute_result"
    }
   ],
   "source": [
    "simplify(x)"
   ]
  },
  {
   "cell_type": "code",
   "execution_count": 15,
   "metadata": {},
   "outputs": [],
   "source": [
    "from numpy import cos, sin"
   ]
  },
  {
   "cell_type": "code",
   "execution_count": 16,
   "metadata": {},
   "outputs": [
    {
     "data": {
      "text/plain": [
       "-4.000594781439115"
      ]
     },
     "execution_count": 16,
     "metadata": {},
     "output_type": "execute_result"
    }
   ],
   "source": [
    "-3.6*sin(64)+4.0*sin(40)*cos(160)+3.0*sin(48)-2.0*cos(40)*cos(160)+2.0*sin(40)*sin(64)+2.0-4.0*sin(64)*cos(40)"
   ]
  },
  {
   "cell_type": "code",
   "execution_count": 14,
   "metadata": {},
   "outputs": [
    {
     "data": {
      "text/latex": [
       "$\\displaystyle \\sin{\\left(40 \\right)}$"
      ],
      "text/plain": [
       "sin(40)"
      ]
     },
     "execution_count": 14,
     "metadata": {},
     "output_type": "execute_result"
    }
   ],
   "source": [
    "sin(40)"
   ]
  }
 ],
 "metadata": {
  "kernelspec": {
   "display_name": "Python 3",
   "language": "python",
   "name": "python3"
  },
  "language_info": {
   "codemirror_mode": {
    "name": "ipython",
    "version": 3
   },
   "file_extension": ".py",
   "mimetype": "text/x-python",
   "name": "python",
   "nbconvert_exporter": "python",
   "pygments_lexer": "ipython3",
   "version": "3.10.11"
  },
  "orig_nbformat": 4
 },
 "nbformat": 4,
 "nbformat_minor": 2
}
