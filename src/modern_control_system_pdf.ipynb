{
 "cells": [
  {
   "cell_type": "markdown",
   "metadata": {},
   "source": [
    "#                          Setup"
   ]
  },
  {
   "cell_type": "code",
   "execution_count": 2,
   "metadata": {},
   "outputs": [],
   "source": [
    "from sympy import Matrix, pprint, cos, sin, symbols, pi, simplify"
   ]
  },
  {
   "cell_type": "code",
   "execution_count": 3,
   "metadata": {},
   "outputs": [],
   "source": [
    "def forward_kin_DHTable(self, degrees=False, DHtable=None):\n",
    "        if DHtable is not None:\n",
    "            number_of_frames = DHtable.rows\n",
    "        else:\n",
    "            number_of_frames = int(input(\"Enter number of frames: \"))\n",
    "\n",
    "        lists = [[] for _ in range(number_of_frames)]\n",
    "        matrix_variables = {}\n",
    "\n",
    "        if DHtable:\n",
    "            for i in range(number_of_frames):\n",
    "                theta = DHtable[i, 0]\n",
    "                alpha = DHtable[i, 1]\n",
    "                a = DHtable[i, 2]\n",
    "                d = DHtable[i, 3]\n",
    "\n",
    "                if degrees:\n",
    "                    theta_val = (float(theta) * pi / 180) if str(theta).replace('.', '', 1).isdigit() else (theta)\n",
    "                    alpha_val = (float(alpha) * pi / 180) if str(alpha).replace('.', '', 1).isdigit() else (alpha)\n",
    "                else:\n",
    "                    theta_val = float(theta) if str(theta).replace('.', '', 1).isdigit() else (theta)\n",
    "                    alpha_val = float(alpha) if str(alpha).replace('.', '', 1).isdigit() else (alpha)\n",
    "\n",
    "                a_val = float(a) if str(a).replace('.', '', 1).isdigit() else (a)\n",
    "                d_val = float(d) if str(d).replace('.', '', 1).isdigit() else (d)\n",
    "\n",
    "                lists[i].append(theta_val)\n",
    "                lists[i].append(alpha_val)\n",
    "                lists[i].append(a_val)\n",
    "                lists[i].append(d_val)\n",
    "        else: \n",
    "            for i in range(number_of_frames):\n",
    "                theta = input(f\"Enter theta_{i+1}: \")\n",
    "                alpha = input(f\"Enter alpha_{i+1}: \")\n",
    "                a = input(f\"Enter a_{i+1}: \")\n",
    "                d = input(f\"Enter d_{i+1}: \")\n",
    "\n",
    "                if degrees:\n",
    "                    theta_val = (float(theta) * pi / 180) if theta.strip().replace('.', '', 1).isdigit() else symbols(theta)\n",
    "                    alpha_val = (float(alpha) * pi / 180) if alpha.strip().replace('.', '', 1).isdigit() else symbols(alpha)\n",
    "                else:\n",
    "                    theta_val = float(theta) if theta.strip().replace('.', '', 1).isdigit() else symbols(theta)\n",
    "                    alpha_val = float(alpha) if alpha.strip().replace('.', '', 1).isdigit() else symbols(alpha)\n",
    "\n",
    "                a_val = float(a) if a.strip().replace('.', '', 1).isdigit() else symbols(a)\n",
    "                d_val = float(d) if d.strip().replace('.', '', 1).isdigit() else symbols(d)\n",
    "\n",
    "                lists[i].append(theta_val)\n",
    "                lists[i].append(alpha_val)\n",
    "                lists[i].append(a_val)\n",
    "                lists[i].append(d_val)\n",
    "\n",
    "        # Create transformation matrices\n",
    "        matrices = []\n",
    "        for i in lists:\n",
    "            theta_val = i[0]\n",
    "            alpha_val = i[1]\n",
    "            a_val = i[2]\n",
    "            d_val = i[3]\n",
    "\n",
    "            matrix = Matrix([\n",
    "                [cos(theta_val), -sin(theta_val), 0,  a_val],\n",
    "                [(sin(theta_val)*cos(alpha_val)), (cos(theta_val)*cos(alpha_val)), -(sin(alpha_val)), (-(sin(alpha_val)))*d_val],\n",
    "                [(sin(theta_val)*sin(alpha_val)), (cos(theta_val)*sin(alpha_val)), cos(alpha_val), (cos(alpha_val))*d_val],\n",
    "                [0,0,0,1],\n",
    "            ])\n",
    "            matrices.append(matrix)\n",
    "\n",
    "        for i in range(number_of_frames):\n",
    "            matrix_variables[f\"T_{i}_{i+1}\"] = matrices[i]\n",
    "\n",
    "        print(\"Matrix Variables:\")\n",
    "        for key, matrix in matrix_variables.items():\n",
    "            print(f\"{key}:\")\n",
    "            print(matrix)  \n",
    "            print() # adds spacing\n",
    "\n",
    "        # Print the product matrix\n",
    "        for matrix in matrices[1:]:\n",
    "            matrices[0] = matrices[0] * matrix\n",
    "        print(\"Resulting Product Matrix:\")\n",
    "        return matrices[0]"
   ]
  },
  {
   "cell_type": "code",
   "execution_count": 6,
   "metadata": {},
   "outputs": [],
   "source": [
    "theta1, theta2, theta3, theta4, theta5, theta6, a1, a2, a3, a4, a5, a6, d1, d2, d3, d4, d5, d6 , L1, L2, L3, L4,L5, L6= symbols('theta1, theta2, theta3, theta4, theta5, theta6, a1, a2, a3, a4, a5, a6, d1, d2, d3, d4, d5, d6 , L1, L2, L3, L4,L5, L6', real=True)"
   ]
  },
  {
   "cell_type": "markdown",
   "metadata": {},
   "source": [
    "### Example 2"
   ]
  },
  {
   "cell_type": "code",
   "execution_count": 7,
   "metadata": {},
   "outputs": [],
   "source": [
    "dhtable1 = Matrix([\n",
    "    [theta1, 0, a1, 0],\n",
    "    [theta2, 180, a2, 0],\n",
    "    [0, 0, 0, d3],\n",
    "    [theta4, 0, 0, d4],\n",
    "])"
   ]
  },
  {
   "cell_type": "code",
   "execution_count": 8,
   "metadata": {},
   "outputs": [
    {
     "name": "stdout",
     "output_type": "stream",
     "text": [
      "Matrix Variables:\n",
      "T_0_1:\n",
      "Matrix([[cos(theta1), -sin(theta1), 0, a1], [sin(theta1), cos(theta1), 0, 0], [0, 0, 1, 0], [0, 0, 0, 1]])\n",
      "\n",
      "T_1_2:\n",
      "Matrix([[cos(theta2), -sin(theta2), 0, a2], [-sin(theta2), -cos(theta2), 0, 0], [0, 0, -1, 0], [0, 0, 0, 1]])\n",
      "\n",
      "T_2_3:\n",
      "Matrix([[1, 0, 0, 0], [0, 1, 0, 0], [0, 0, 1, d3], [0, 0, 0, 1]])\n",
      "\n",
      "T_3_4:\n",
      "Matrix([[cos(theta4), -sin(theta4), 0, 0], [sin(theta4), cos(theta4), 0, 0], [0, 0, 1, d4], [0, 0, 0, 1]])\n",
      "\n",
      "Resulting Product Matrix:\n"
     ]
    },
    {
     "data": {
      "text/latex": [
       "$\\displaystyle \\left[\\begin{matrix}\\cos{\\left(- \\theta_{1} + \\theta_{2} + \\theta_{4} \\right)} & - \\sin{\\left(- \\theta_{1} + \\theta_{2} + \\theta_{4} \\right)} & 0 & a_{1} + a_{2} \\cos{\\left(\\theta_{1} \\right)}\\\\- \\sin{\\left(- \\theta_{1} + \\theta_{2} + \\theta_{4} \\right)} & - \\cos{\\left(- \\theta_{1} + \\theta_{2} + \\theta_{4} \\right)} & 0 & a_{2} \\sin{\\left(\\theta_{1} \\right)}\\\\0 & 0 & -1 & - d_{3} - d_{4}\\\\0 & 0 & 0 & 1\\end{matrix}\\right]$"
      ],
      "text/plain": [
       "Matrix([\n",
       "[ cos(-theta1 + theta2 + theta4), -sin(-theta1 + theta2 + theta4),  0, a1 + a2*cos(theta1)],\n",
       "[-sin(-theta1 + theta2 + theta4), -cos(-theta1 + theta2 + theta4),  0,      a2*sin(theta1)],\n",
       "[                              0,                               0, -1,            -d3 - d4],\n",
       "[                              0,                               0,  0,                   1]])"
      ]
     },
     "execution_count": 8,
     "metadata": {},
     "output_type": "execute_result"
    }
   ],
   "source": [
    "simplify(forward_kin_DHTable(degrees=True, DHtable = dhtable1))"
   ]
  },
  {
   "cell_type": "markdown",
   "metadata": {},
   "source": [
    "### Example 3"
   ]
  },
  {
   "cell_type": "code",
   "execution_count": 10,
   "metadata": {},
   "outputs": [],
   "source": [
    "dhtable2 = Matrix([\n",
    "    [theta1, 0, 0, d1],\n",
    "    [0, -90, 0, d2],\n",
    "    [0, 0, 0, d3],\n",
    "])"
   ]
  },
  {
   "cell_type": "code",
   "execution_count": 11,
   "metadata": {},
   "outputs": [
    {
     "name": "stdout",
     "output_type": "stream",
     "text": [
      "Matrix Variables:\n",
      "T_0_1:\n",
      "Matrix([[cos(theta1), -sin(theta1), 0, 0], [sin(theta1), cos(theta1), 0, 0], [0, 0, 1, d1], [0, 0, 0, 1]])\n",
      "\n",
      "T_1_2:\n",
      "Matrix([[1, 0, 0, 0], [0, cos(90), sin(90), d2*sin(90)], [0, -sin(90), cos(90), d2*cos(90)], [0, 0, 0, 1]])\n",
      "\n",
      "T_2_3:\n",
      "Matrix([[1, 0, 0, 0], [0, 1, 0, 0], [0, 0, 1, d3], [0, 0, 0, 1]])\n",
      "\n",
      "Resulting Product Matrix:\n"
     ]
    },
    {
     "data": {
      "text/latex": [
       "$\\displaystyle \\left[\\begin{matrix}\\cos{\\left(\\theta_{1} \\right)} & - \\sin{\\left(\\theta_{1} \\right)} \\cos{\\left(90 \\right)} & - \\sin{\\left(90 \\right)} \\sin{\\left(\\theta_{1} \\right)} & \\left(- d_{2} - d_{3}\\right) \\sin{\\left(90 \\right)} \\sin{\\left(\\theta_{1} \\right)}\\\\\\sin{\\left(\\theta_{1} \\right)} & \\cos{\\left(90 \\right)} \\cos{\\left(\\theta_{1} \\right)} & \\sin{\\left(90 \\right)} \\cos{\\left(\\theta_{1} \\right)} & \\left(d_{2} + d_{3}\\right) \\sin{\\left(90 \\right)} \\cos{\\left(\\theta_{1} \\right)}\\\\0 & - \\sin{\\left(90 \\right)} & \\cos{\\left(90 \\right)} & d_{1} + d_{2} \\cos{\\left(90 \\right)} + d_{3} \\cos{\\left(90 \\right)}\\\\0 & 0 & 0 & 1\\end{matrix}\\right]$"
      ],
      "text/plain": [
       "Matrix([\n",
       "[cos(theta1), -sin(theta1)*cos(90), -sin(90)*sin(theta1), (-d2 - d3)*sin(90)*sin(theta1)],\n",
       "[sin(theta1),  cos(90)*cos(theta1),  sin(90)*cos(theta1),  (d2 + d3)*sin(90)*cos(theta1)],\n",
       "[          0,             -sin(90),              cos(90),   d1 + d2*cos(90) + d3*cos(90)],\n",
       "[          0,                    0,                    0,                              1]])"
      ]
     },
     "execution_count": 11,
     "metadata": {},
     "output_type": "execute_result"
    }
   ],
   "source": [
    "simplify(forward_kin_DHTable(degrees=True, DHtable = dhtable2))"
   ]
  }
 ],
 "metadata": {
  "kernelspec": {
   "display_name": "Python 3",
   "language": "python",
   "name": "python3"
  },
  "language_info": {
   "codemirror_mode": {
    "name": "ipython",
    "version": 3
   },
   "file_extension": ".py",
   "mimetype": "text/x-python",
   "name": "python",
   "nbconvert_exporter": "python",
   "pygments_lexer": "ipython3",
   "version": "3.10.11"
  },
  "orig_nbformat": 4
 },
 "nbformat": 4,
 "nbformat_minor": 2
}
